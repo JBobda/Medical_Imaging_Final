{
 "cells": [
  {
   "cell_type": "markdown",
   "metadata": {},
   "source": [
    "# Final Project\n",
    "## PS Sparse Demo\n",
    "### by: Jan Bobda, Vincent Tran, Eli Helf"
   ]
  },
  {
   "cell_type": "markdown",
   "metadata": {},
   "source": [
    "### Imports"
   ]
  },
  {
   "cell_type": "code",
   "execution_count": 40,
   "metadata": {},
   "outputs": [],
   "source": [
    "import math\n",
    "import numpy as np\n",
    "from scipy.io import loadmat\n",
    "from scipy.fft import fft, fft2, fftshift\n",
    "from scipy.sparse import csr_matrix\n",
    "import scipy.signal\n",
    "from matplotlib import pyplot as plt"
   ]
  },
  {
   "cell_type": "markdown",
   "metadata": {},
   "source": [
    "### Variable declerations of Demo"
   ]
  },
  {
   "cell_type": "code",
   "execution_count": 2,
   "metadata": {},
   "outputs": [],
   "source": [
    "Np = 200 # Number of phase encodings\n",
    "Nf = 256 # Number of frequency encodings\n",
    "Nnav = 4 # Number of Navigators\n",
    "Numfr = 2048 # Number of frames\n",
    "Ng = 8\n",
    "Nfr = Numfr//Ng # Number of temporal frames"
   ]
  },
  {
   "cell_type": "markdown",
   "metadata": {},
   "source": [
    "### Load in Image XYT and convert to Kraw"
   ]
  },
  {
   "cell_type": "code",
   "execution_count": 3,
   "metadata": {},
   "outputs": [],
   "source": [
    "img = loadmat(\"image_xyt.mat\")\n",
    "image_xyt = img['image_xyt']\n",
    "\n",
    "Kraw = 1/math.sqrt(Np*Nf)*fft2(image_xyt)\n",
    "image_xyt = image_xyt.reshape(Np*Nf, Nfr)\n",
    "Kraw = Kraw.reshape(Np*Nf, Nfr)"
   ]
  },
  {
   "cell_type": "code",
   "execution_count": 4,
   "metadata": {},
   "outputs": [],
   "source": [
    "Nsam = 32 # Number of samples at each k-space location\n",
    "nav_ind = range(Np//2-Nnav//2+1, (Np//2+Nnav//2) + 1)"
   ]
  },
  {
   "cell_type": "code",
   "execution_count": 5,
   "metadata": {},
   "outputs": [],
   "source": [
    "def tem_sampling_generation(Np, Nfr, Nnav, Nsam):\n",
    "    temmask = np.zeros((Np, Nfr), dtype=int)\n",
    "    nav_ind = range(Np//2-Nnav//2+1, (Np//2+Nnav//2) + 1)\n",
    "    for i in range(Np):\n",
    "        if(np.argwhere(i == nav_ind)):\n",
    "            temmask[i, :] = np.ones((1, Nfr), dtype=int);\n",
    "        else:\n",
    "            temp = np.zeros((1, Nfr), dtype=int)\n",
    "            ind = np.random.permutation(range(Nfr))\n",
    "            temp[:, ind[range(Nsam)]] = 1\n",
    "            temmask[i,:] = temp\n",
    "    return temmask"
   ]
  },
  {
   "cell_type": "code",
   "execution_count": 6,
   "metadata": {},
   "outputs": [
    {
     "name": "stdout",
     "output_type": "stream",
     "text": [
      "(1638400,)\n"
     ]
    },
    {
     "name": "stderr",
     "output_type": "stream",
     "text": [
      "c:\\users\\ebolt\\appdata\\local\\programs\\python\\python37\\lib\\site-packages\\ipykernel_launcher.py:5: DeprecationWarning: The truth value of an empty array is ambiguous. Returning False, but in future this will result in an error. Use `array.size > 0` to check that an array is not empty.\n",
      "  \"\"\"\n"
     ]
    }
   ],
   "source": [
    "temmask = tem_sampling_generation(Np, Nfr, Nnav, Nsam)\n",
    "temmask = fftshift(temmask, 1);\n",
    "Mask = np.transpose(np.reshape(np.kron(np.ones((1, Nf), dtype=int), temmask), (Np, Nfr, Nf), [1, 3, 2]))\n",
    "Mask = Mask.reshape(Np*Nf, Nfr)\n",
    "d = Kraw[Mask.astype(bool)];\n",
    "print(d.shape) # This number differs from the one in matlab (1867776)"
   ]
  },
  {
   "cell_type": "code",
   "execution_count": 7,
   "metadata": {},
   "outputs": [],
   "source": [
    "nav_location = np.zeros((Np, 1), dtype=int)\n",
    "nav_location[nav_ind] = 1\n",
    "Kraw = Kraw.reshape(Np, Nf, Nfr)\n",
    "t = np.argwhere(fftshift(nav_location.squeeze())).squeeze()\n",
    "Navdata = Kraw[t, :, :].reshape((Nnav*Nf, Nfr));"
   ]
  },
  {
   "cell_type": "code",
   "execution_count": 68,
   "metadata": {},
   "outputs": [],
   "source": [
    "r = 32 # Model orders\n",
    "[_, S, Vt_r] = np.linalg.svd(Navdata, full_matrices=False)\n",
    "Vt_r = Vt_r[:r, :]"
   ]
  },
  {
   "cell_type": "code",
   "execution_count": 69,
   "metadata": {},
   "outputs": [
    {
     "name": "stdout",
     "output_type": "stream",
     "text": [
      "[[-7.59540369e-03+0.j          5.13022509e-01+0.26535842j\n",
      "  -1.78759115e-01-0.25381649j ...  2.21375574e-02-0.15782099j\n",
      "  -1.78759115e-01+0.25381649j  5.13022509e-01-0.26535842j]\n",
      " [-1.36513838e-03+0.j         -3.12261128e-01-0.15947212j\n",
      "  -1.47423752e-01-0.20940641j ...  6.05291387e-02-0.43223196j\n",
      "  -1.47423752e-01+0.20940641j -3.12261128e-01+0.15947212j]\n",
      " [-1.72176846e-03+0.j          1.57827714e-02-0.00510243j\n",
      "  -3.66266048e-03-0.04123028j ...  2.08591843e-02+0.00043405j\n",
      "  -3.66266048e-03+0.04123028j  1.57827714e-02+0.00510243j]\n",
      " [ 2.57094254e-04+0.j          1.97518271e-02+0.01502095j\n",
      "  -2.24820255e-02-0.00784042j ... -1.57346328e-02+0.01014741j\n",
      "  -2.24820255e-02+0.00784042j  1.97518271e-02-0.01502095j]]\n"
     ]
    }
   ],
   "source": [
    "temporal_bases = Vt_r[range(1, 4 + 1), :]\n",
    "print(temporal_bases)"
   ]
  },
  {
   "cell_type": "code",
   "execution_count": 79,
   "metadata": {},
   "outputs": [],
   "source": [
    "def ps_sparse_recon(d, Mask, Us_r, Vt_r, mu, beta, regularizer, Np, Nf, Nfr):\n",
    "    def wthresh(a, thresh):\n",
    "        #Soft threshold\n",
    "        res = np.abs(a) - thresh\n",
    "        return np.sign(a) * ((res > 0) * res)\n",
    "    \n",
    "    tol = 1e-5\n",
    "    maxit = 200\n",
    "    \n",
    "    r = Us_r.shape[1]\n",
    "    [Rind, Cind] = np.where(Mask)\n",
    "    bb = csr_matrix((Rind,(Cind, d)), shape=(Np*Nf, Nfr)) @ Vt_r.T\n",
    "    \n",
    "    Uk_r = 1/math.sqrt(Np*Nf)*np.reshape(fft2(np.reshape(Us_r, (Np, Nf, r))), (Np*Nf, r))\n",
    "    Us_r_last = Us_r\n",
    "    Vf_r = 1/math.sqrt(Nfr)*fft(Vt_r, axis=1);\n",
    "    \n",
    "    if(regularizer == 'xf_sparse'):\n",
    "        for m in range(5):\n",
    "            print(\"The outerloop is \\n\")\n",
    "            for n in range(100):\n",
    "                print(\"The innerloop is \\n\")\n",
    "                Gs = np.sign(Us_r @ Vf_r) * wthresh(np.abs(Us_r @ Vf_r), 1/beta) @ Vf_r.T\n",
    "                Gk = 1/math.sqrt(Np*Nf)*fft2(np.reshape(Gs, (Np, Nf, r)))\n",
    "                b = bb + mu*beta/2*np.reshape(Gk, (Np*Nf, r))"
   ]
  },
  {
   "cell_type": "code",
   "execution_count": 80,
   "metadata": {},
   "outputs": [
    {
     "name": "stdout",
     "output_type": "stream",
     "text": [
      "Model order Basic PS-Sparse reconstruction \n",
      "\n",
      "The outerloop is \n",
      "\n",
      "The innerloop is \n",
      "\n",
      "The innerloop is \n",
      "\n",
      "The innerloop is \n",
      "\n",
      "The innerloop is \n",
      "\n",
      "The innerloop is \n",
      "\n",
      "The innerloop is \n",
      "\n",
      "The innerloop is \n",
      "\n",
      "The innerloop is \n",
      "\n"
     ]
    },
    {
     "ename": "KeyboardInterrupt",
     "evalue": "",
     "output_type": "error",
     "traceback": [
      "\u001b[1;31m---------------------------------------------------------------------------\u001b[0m",
      "\u001b[1;31mKeyboardInterrupt\u001b[0m                         Traceback (most recent call last)",
      "\u001b[1;32m<ipython-input-80-769305c1ff84>\u001b[0m in \u001b[0;36m<module>\u001b[1;34m\u001b[0m\n\u001b[0;32m      3\u001b[0m \u001b[0mmu\u001b[0m \u001b[1;33m=\u001b[0m \u001b[1;36m2.5e-6\u001b[0m\u001b[1;33m\u001b[0m\u001b[1;33m\u001b[0m\u001b[0m\n\u001b[0;32m      4\u001b[0m \u001b[0mUs_r0\u001b[0m \u001b[1;33m=\u001b[0m \u001b[0mnp\u001b[0m\u001b[1;33m.\u001b[0m\u001b[0mzeros\u001b[0m\u001b[1;33m(\u001b[0m\u001b[1;33m(\u001b[0m\u001b[0mNp\u001b[0m\u001b[1;33m*\u001b[0m\u001b[0mNf\u001b[0m\u001b[1;33m,\u001b[0m \u001b[0mr\u001b[0m\u001b[1;33m)\u001b[0m\u001b[1;33m)\u001b[0m\u001b[1;33m;\u001b[0m\u001b[1;33m\u001b[0m\u001b[1;33m\u001b[0m\u001b[0m\n\u001b[1;32m----> 5\u001b[1;33m \u001b[0mUs_r\u001b[0m \u001b[1;33m=\u001b[0m \u001b[0mps_sparse_recon\u001b[0m\u001b[1;33m(\u001b[0m\u001b[0md\u001b[0m\u001b[1;33m,\u001b[0m \u001b[0mMask\u001b[0m\u001b[1;33m,\u001b[0m \u001b[0mUs_r0\u001b[0m\u001b[1;33m,\u001b[0m \u001b[0mVt_r\u001b[0m\u001b[1;33m,\u001b[0m \u001b[0mmu\u001b[0m\u001b[1;33m,\u001b[0m \u001b[0mbeta\u001b[0m\u001b[1;33m,\u001b[0m \u001b[1;34m'xf_sparse'\u001b[0m\u001b[1;33m,\u001b[0m \u001b[0mNp\u001b[0m\u001b[1;33m,\u001b[0m \u001b[0mNf\u001b[0m\u001b[1;33m,\u001b[0m \u001b[0mNfr\u001b[0m\u001b[1;33m)\u001b[0m\u001b[1;33m\u001b[0m\u001b[1;33m\u001b[0m\u001b[0m\n\u001b[0m",
      "\u001b[1;32m<ipython-input-79-e9fdca1acac4>\u001b[0m in \u001b[0;36mps_sparse_recon\u001b[1;34m(d, Mask, Us_r, Vt_r, mu, beta, regularizer, Np, Nf, Nfr)\u001b[0m\n\u001b[0;32m     21\u001b[0m             \u001b[1;32mfor\u001b[0m \u001b[0mn\u001b[0m \u001b[1;32min\u001b[0m \u001b[0mrange\u001b[0m\u001b[1;33m(\u001b[0m\u001b[1;36m100\u001b[0m\u001b[1;33m)\u001b[0m\u001b[1;33m:\u001b[0m\u001b[1;33m\u001b[0m\u001b[1;33m\u001b[0m\u001b[0m\n\u001b[0;32m     22\u001b[0m                 \u001b[0mprint\u001b[0m\u001b[1;33m(\u001b[0m\u001b[1;34m\"The innerloop is \\n\"\u001b[0m\u001b[1;33m)\u001b[0m\u001b[1;33m\u001b[0m\u001b[1;33m\u001b[0m\u001b[0m\n\u001b[1;32m---> 23\u001b[1;33m                 \u001b[0mGs\u001b[0m \u001b[1;33m=\u001b[0m \u001b[0mnp\u001b[0m\u001b[1;33m.\u001b[0m\u001b[0msign\u001b[0m\u001b[1;33m(\u001b[0m\u001b[0mUs_r\u001b[0m \u001b[1;33m@\u001b[0m \u001b[0mVf_r\u001b[0m\u001b[1;33m)\u001b[0m \u001b[1;33m*\u001b[0m \u001b[0mwthresh\u001b[0m\u001b[1;33m(\u001b[0m\u001b[0mnp\u001b[0m\u001b[1;33m.\u001b[0m\u001b[0mabs\u001b[0m\u001b[1;33m(\u001b[0m\u001b[0mUs_r\u001b[0m \u001b[1;33m@\u001b[0m \u001b[0mVf_r\u001b[0m\u001b[1;33m)\u001b[0m\u001b[1;33m,\u001b[0m \u001b[1;36m1\u001b[0m\u001b[1;33m/\u001b[0m\u001b[0mbeta\u001b[0m\u001b[1;33m)\u001b[0m \u001b[1;33m@\u001b[0m \u001b[0mVf_r\u001b[0m\u001b[1;33m.\u001b[0m\u001b[0mT\u001b[0m\u001b[1;33m\u001b[0m\u001b[1;33m\u001b[0m\u001b[0m\n\u001b[0m\u001b[0;32m     24\u001b[0m                 \u001b[0mGk\u001b[0m \u001b[1;33m=\u001b[0m \u001b[1;36m1\u001b[0m\u001b[1;33m/\u001b[0m\u001b[0mmath\u001b[0m\u001b[1;33m.\u001b[0m\u001b[0msqrt\u001b[0m\u001b[1;33m(\u001b[0m\u001b[0mNp\u001b[0m\u001b[1;33m*\u001b[0m\u001b[0mNf\u001b[0m\u001b[1;33m)\u001b[0m\u001b[1;33m*\u001b[0m\u001b[0mfft2\u001b[0m\u001b[1;33m(\u001b[0m\u001b[0mnp\u001b[0m\u001b[1;33m.\u001b[0m\u001b[0mreshape\u001b[0m\u001b[1;33m(\u001b[0m\u001b[0mGs\u001b[0m\u001b[1;33m,\u001b[0m \u001b[1;33m(\u001b[0m\u001b[0mNp\u001b[0m\u001b[1;33m,\u001b[0m \u001b[0mNf\u001b[0m\u001b[1;33m,\u001b[0m \u001b[0mr\u001b[0m\u001b[1;33m)\u001b[0m\u001b[1;33m)\u001b[0m\u001b[1;33m)\u001b[0m\u001b[1;33m\u001b[0m\u001b[1;33m\u001b[0m\u001b[0m\n\u001b[0;32m     25\u001b[0m                 \u001b[0mb\u001b[0m \u001b[1;33m=\u001b[0m \u001b[0mbb\u001b[0m \u001b[1;33m+\u001b[0m \u001b[0mmu\u001b[0m\u001b[1;33m*\u001b[0m\u001b[0mbeta\u001b[0m\u001b[1;33m/\u001b[0m\u001b[1;36m2\u001b[0m\u001b[1;33m*\u001b[0m\u001b[0mnp\u001b[0m\u001b[1;33m.\u001b[0m\u001b[0mreshape\u001b[0m\u001b[1;33m(\u001b[0m\u001b[0mGk\u001b[0m\u001b[1;33m,\u001b[0m \u001b[1;33m(\u001b[0m\u001b[0mNp\u001b[0m\u001b[1;33m*\u001b[0m\u001b[0mNf\u001b[0m\u001b[1;33m,\u001b[0m \u001b[0mr\u001b[0m\u001b[1;33m)\u001b[0m\u001b[1;33m)\u001b[0m\u001b[1;33m\u001b[0m\u001b[1;33m\u001b[0m\u001b[0m\n",
      "\u001b[1;31mKeyboardInterrupt\u001b[0m: "
     ]
    }
   ],
   "source": [
    "print(\"Model order Basic PS-Sparse reconstruction \\n\")\n",
    "beta = 1e3\n",
    "mu = 2.5e-6\n",
    "Us_r0 = np.zeros((Np*Nf, r));\n",
    "Us_r = ps_sparse_recon(d, Mask, Us_r0, Vt_r, mu, beta, 'xf_sparse', Np, Nf, Nfr)"
   ]
  },
  {
   "cell_type": "code",
   "execution_count": null,
   "metadata": {},
   "outputs": [],
   "source": []
  }
 ],
 "metadata": {
  "kernelspec": {
   "display_name": "Python 3",
   "language": "python",
   "name": "python3"
  },
  "language_info": {
   "codemirror_mode": {
    "name": "ipython",
    "version": 3
   },
   "file_extension": ".py",
   "mimetype": "text/x-python",
   "name": "python",
   "nbconvert_exporter": "python",
   "pygments_lexer": "ipython3",
   "version": "3.7.4"
  }
 },
 "nbformat": 4,
 "nbformat_minor": 2
}

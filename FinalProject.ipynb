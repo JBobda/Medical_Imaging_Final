{
 "cells": [
  {
   "cell_type": "markdown",
   "metadata": {},
   "source": [
    "# Final Project\n",
    "## PS Sparse Demo\n",
    "### by: Jan Bobda, Vincent Tran, Eli Helf"
   ]
  },
  {
   "cell_type": "markdown",
   "metadata": {},
   "source": [
    "### Imports"
   ]
  },
  {
   "cell_type": "code",
   "execution_count": 50,
   "metadata": {},
   "outputs": [],
   "source": [
    "import math\n",
    "import numpy as np\n",
    "from scipy.io import loadmat\n",
    "from scipy.fft import fft2, fftshift\n",
    "import scipy.signal\n",
    "from matplotlib import pyplot as plt"
   ]
  },
  {
   "cell_type": "markdown",
   "metadata": {},
   "source": [
    "### Variable declerations of Demo"
   ]
  },
  {
   "cell_type": "code",
   "execution_count": 26,
   "metadata": {},
   "outputs": [],
   "source": [
    "Np = 200 # Number of phase encodings\n",
    "Nf = 256 \n",
    "Nnav = 4 # Number of Navigators\n",
    "Numfr = 2048 # Number of frames\n",
    "Ng = 8\n",
    "Nfr = Numfr//Ng # Number of temporal frames"
   ]
  },
  {
   "cell_type": "markdown",
   "metadata": {},
   "source": [
    "### Load in Image XYT and convert to Kraw"
   ]
  },
  {
   "cell_type": "code",
   "execution_count": 127,
   "metadata": {},
   "outputs": [
    {
     "name": "stdout",
     "output_type": "stream",
     "text": [
      "[[0.+0.j 0.+0.j 0.+0.j ... 0.+0.j 0.+0.j 0.+0.j]\n",
      " [0.+0.j 0.+0.j 0.+0.j ... 0.+0.j 0.+0.j 0.+0.j]\n",
      " [0.+0.j 0.+0.j 0.+0.j ... 0.+0.j 0.+0.j 0.+0.j]\n",
      " ...\n",
      " [0.+0.j 0.+0.j 0.+0.j ... 0.+0.j 0.+0.j 0.+0.j]\n",
      " [0.+0.j 0.+0.j 0.+0.j ... 0.+0.j 0.+0.j 0.+0.j]\n",
      " [0.+0.j 0.+0.j 0.+0.j ... 0.+0.j 0.+0.j 0.+0.j]]\n"
     ]
    }
   ],
   "source": [
    "img = loadmat(\"image_xyt.mat\")\n",
    "image_xyt = img['image_xyt']\n",
    "\n",
    "Kraw = 1/math.sqrt(Np*Nf)*fft2(image_xyt)\n",
    "image_xyt = image_xyt.reshape(Np*Nf, Nfr)\n",
    "Kraw = Kraw.reshape(Np*Nf, Nfr)\n",
    "print(Kraw)"
   ]
  },
  {
   "cell_type": "code",
   "execution_count": 108,
   "metadata": {},
   "outputs": [],
   "source": [
    "Nsam = 32 # Number of samples at each k-space location\n",
    "nav_ind = range(Np//2-Nnav//2+1, Np//2+Nnav//2)"
   ]
  },
  {
   "cell_type": "code",
   "execution_count": 128,
   "metadata": {},
   "outputs": [],
   "source": [
    "def tem_sampling_generation(Np, Nfr, Nnav, Nsam):\n",
    "    temmask = np.zeros((Np, Nfr))\n",
    "    nav_ind = range(Np//2-Nnav//2+1, Np//2+Nnav//2)\n",
    "    for i in range(Np):\n",
    "        if(np.argwhere(i == nav_ind)):\n",
    "            temmask[i, :] = np.ones((1, Nfr));\n",
    "        else:\n",
    "            temp = np.zeros((1, Nfr))\n",
    "            ind = np.random.permutation(range(Nfr))\n",
    "            temp[:, ind[range(Nsam)]] = 1\n",
    "            temmask[i,:] = temp\n",
    "    return temmask"
   ]
  },
  {
   "cell_type": "code",
   "execution_count": 129,
   "metadata": {},
   "outputs": [
    {
     "name": "stderr",
     "output_type": "stream",
     "text": [
      "c:\\users\\ebolt\\appdata\\local\\programs\\python\\python37\\lib\\site-packages\\ipykernel_launcher.py:5: DeprecationWarning: The truth value of an empty array is ambiguous. Returning False, but in future this will result in an error. Use `array.size > 0` to check that an array is not empty.\n",
      "  \"\"\"\n"
     ]
    }
   ],
   "source": [
    "temmask = tem_sampling_generation(Np, Nfr, Nnav, Nsam)\n",
    "temmask = fftshift(temmask, 1);\n",
    "Mask = np.transpose(np.reshape(np.kron(np.ones((1, Nf)), temmask), (Np, Nfr, Nf), [1, 3, 2]))\n",
    "Mask = Mask.reshape(Np*Nf, Nfr)\n",
    "# d = Kraw(Mask);"
   ]
  },
  {
   "cell_type": "code",
   "execution_count": null,
   "metadata": {},
   "outputs": [],
   "source": []
  }
 ],
 "metadata": {
  "kernelspec": {
   "display_name": "Python 3",
   "language": "python",
   "name": "python3"
  },
  "language_info": {
   "codemirror_mode": {
    "name": "ipython",
    "version": 3
   },
   "file_extension": ".py",
   "mimetype": "text/x-python",
   "name": "python",
   "nbconvert_exporter": "python",
   "pygments_lexer": "ipython3",
   "version": "3.7.4"
  }
 },
 "nbformat": 4,
 "nbformat_minor": 2
}
